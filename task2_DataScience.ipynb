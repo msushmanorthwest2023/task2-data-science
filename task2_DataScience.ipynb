{
 "cells": [
  {
   "cell_type": "code",
   "execution_count": 1,
   "metadata": {},
   "outputs": [
    {
     "name": "stdout",
     "output_type": "stream",
     "text": [
      "Mean Squared Error: 0.9193388756900525\n"
     ]
    }
   ],
   "source": [
    "import pandas as pd\n",
    "from sklearn.model_selection import train_test_split\n",
    "from sklearn.preprocessing import LabelEncoder\n",
    "from sklearn.ensemble import RandomForestRegressor\n",
    "from sklearn.metrics import mean_squared_error\n",
    "\n",
    "# Load dataset\n",
    "df = pd.read_csv('C:/Users/S559298/Downloads/archive1/IMDb Movies India.csv', encoding='latin1')\n",
    "\n",
    "# Handle missing data\n",
    "df.fillna({'Genre': 'Unknown', 'Director': 'Unknown', 'Actor 1': 'Unknown', 'Actor 2': 'Unknown', 'Actor 3': 'Unknown'}, inplace=True)\n",
    "\n",
    "# Check if 'Rating' has any missing values and handle them\n",
    "df['Rating'] = df['Rating'].fillna(df['Rating'].mean())  # Replace NaNs with the mean rating\n",
    "  # Replace NaNs with the mean rating\n",
    "\n",
    "# Encode categorical columns (e.g., Genre, Director, Actor 1, etc.)\n",
    "encoder = LabelEncoder()\n",
    "df['Genre'] = encoder.fit_transform(df['Genre'])\n",
    "df['Director'] = encoder.fit_transform(df['Director'])\n",
    "df['Actor 1'] = encoder.fit_transform(df['Actor 1'])\n",
    "df['Actor 2'] = encoder.fit_transform(df['Actor 2'])\n",
    "df['Actor 3'] = encoder.fit_transform(df['Actor 3'])\n",
    "\n",
    "# Define features and target variable\n",
    "X = df[['Genre', 'Director', 'Actor 1', 'Actor 2', 'Actor 3']]\n",
    "y = df['Rating']\n",
    "\n",
    "# Split data into training and testing sets\n",
    "X_train, X_test, y_train, y_test = train_test_split(X, y, test_size=0.2, random_state=42)\n",
    "\n",
    "# Model training\n",
    "model = RandomForestRegressor(random_state=42)\n",
    "model.fit(X_train, y_train)\n",
    "\n",
    "# Model prediction\n",
    "y_pred = model.predict(X_test)\n",
    "\n",
    "# Evaluate model performance\n",
    "mse = mean_squared_error(y_test, y_pred)\n",
    "print(f'Mean Squared Error: {mse}')\n"
   ]
  }
 ],
 "metadata": {
  "kernelspec": {
   "display_name": "Python 3",
   "language": "python",
   "name": "python3"
  },
  "language_info": {
   "codemirror_mode": {
    "name": "ipython",
    "version": 3
   },
   "file_extension": ".py",
   "mimetype": "text/x-python",
   "name": "python",
   "nbconvert_exporter": "python",
   "pygments_lexer": "ipython3",
   "version": "3.12.5"
  }
 },
 "nbformat": 4,
 "nbformat_minor": 2
}
